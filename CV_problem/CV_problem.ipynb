{
  "nbformat": 4,
  "nbformat_minor": 0,
  "metadata": {
    "colab": {
      "name": "Untitled3.ipynb",
      "version": "0.3.2",
      "provenance": [],
      "collapsed_sections": [],
      "toc_visible": true
    },
    "kernelspec": {
      "name": "python3",
      "display_name": "Python 3"
    },
    "accelerator": "GPU"
  },
  "cells": [
    {
      "metadata": {
        "id": "N6ORIsL2zT2g",
        "colab_type": "code",
        "colab": {}
      },
      "cell_type": "code",
      "source": [
        "from pathlib import Path\n",
        "import pickle\n",
        "import numpy as np\n",
        "\n",
        "import matplotlib.pyplot as plt\n",
        "from torchvision import transforms\n",
        "from torch.utils.data import DataLoader\n",
        "from torch.utils.data import TensorDataset\n",
        "import torch\n",
        "from torch import nn\n",
        "from torch import optim\n",
        "import torch.nn.functional as F\n",
        "import pandas as pd"
      ],
      "execution_count": 0,
      "outputs": []
    },
    {
      "metadata": {
        "id": "HR85-xlPtT5-",
        "colab_type": "text"
      },
      "cell_type": "markdown",
      "source": [
        "#**Building a CNN model for classification of the given dataset**\n"
      ]
    },
    {
      "metadata": {
        "id": "Qu20XkmJ5hw9",
        "colab_type": "code",
        "colab": {}
      },
      "cell_type": "code",
      "source": [
        "dest = Path('Data')  #creating a folder to load data into \n",
        "dest.mkdir(parents=True, exist_ok=True)"
      ],
      "execution_count": 0,
      "outputs": []
    },
    {
      "metadata": {
        "id": "5QK-oQsRvhUg",
        "colab_type": "text"
      },
      "cell_type": "markdown",
      "source": [
        "Loading the data from file into variables and checking out the labels."
      ]
    },
    {
      "metadata": {
        "id": "CZGK2wO1vdCb",
        "colab_type": "code",
        "outputId": "96d609c8-1746-479a-aa9e-e270d5d5c2a5",
        "colab": {
          "base_uri": "https://localhost:8080/",
          "height": 34
        }
      },
      "cell_type": "code",
      "source": [
        "with open(dest/'train_image.pkl', 'rb') as f:\n",
        "    data_img = np.array(pickle.load(f),dtype='float32').reshape(8000,28,28)  # reshaping the each data into 2D matrix\n",
        "with open(dest/'train_label.pkl', 'rb') as f:\n",
        "    data_label = np.array(pickle.load(f))\n",
        "set(data_label.flatten())  #looking at all the set of labeles"
      ],
      "execution_count": 0,
      "outputs": [
        {
          "output_type": "execute_result",
          "data": {
            "text/plain": [
              "{0, 2, 3, 6}"
            ]
          },
          "metadata": {
            "tags": []
          },
          "execution_count": 9
        }
      ]
    },
    {
      "metadata": {
        "id": "OHFtUxF5t1yh",
        "colab_type": "text"
      },
      "cell_type": "markdown",
      "source": [
        "Now the data set has 4 labels (0,2,3,6). The following function maps these valuse to default labels 0,1,2 and 3 for the convenience of model building. We then use the function on the extracted labels."
      ]
    },
    {
      "metadata": {
        "id": "yNCcF7bHHbcE",
        "colab_type": "code",
        "outputId": "b94299ce-495b-46b7-8479-ff25fc7f223b",
        "colab": {
          "base_uri": "https://localhost:8080/",
          "height": 34
        }
      },
      "cell_type": "code",
      "source": [
        "def map_vect(x):\n",
        "  if x==0:\n",
        "    return 0\n",
        "  elif x==2:\n",
        "    return 1\n",
        "  elif x==3:\n",
        "    return 2\n",
        "  else:\n",
        "    return 3\n",
        "\n",
        "data_label_mapped = np.array([map_vect(x) for x in data_label])\n",
        "set(data_label_mapped.flatten())"
      ],
      "execution_count": 0,
      "outputs": [
        {
          "output_type": "execute_result",
          "data": {
            "text/plain": [
              "{0, 1, 2, 3}"
            ]
          },
          "metadata": {
            "tags": []
          },
          "execution_count": 10
        }
      ]
    },
    {
      "metadata": {
        "id": "N6aYzQLw3nk-",
        "colab_type": "text"
      },
      "cell_type": "markdown",
      "source": [
        "Setting up for splitting data into train and validation set"
      ]
    },
    {
      "metadata": {
        "id": "ujsEozFl9v8R",
        "colab_type": "code",
        "colab": {}
      },
      "cell_type": "code",
      "source": [
        "data_size = len(data_img)    #total number of images\n",
        "validation_split = .2  #ratio of data to be put into validation set\n",
        "indices = list(range(data_size))  #getting the indices in form of list\n",
        "split = int(np.floor(validation_split * data_size))  #amount of data to be split into validation set"
      ],
      "execution_count": 0,
      "outputs": []
    },
    {
      "metadata": {
        "id": "pjtPBvAHZpE8",
        "colab_type": "code",
        "colab": {}
      },
      "cell_type": "code",
      "source": [
        "random_seed= 77\n",
        "np.random.seed(random_seed)\n",
        "np.random.shuffle(indices)  #shuffling the indices randomly"
      ],
      "execution_count": 0,
      "outputs": []
    },
    {
      "metadata": {
        "id": "Ry5BJgIm5Dq9",
        "colab_type": "text"
      },
      "cell_type": "markdown",
      "source": [
        "Splitting the data into train_set and valid_set"
      ]
    },
    {
      "metadata": {
        "id": "KovKmu5UIL7d",
        "colab_type": "code",
        "colab": {}
      },
      "cell_type": "code",
      "source": [
        "train_indices, val_indices = indices[split:], indices[:split]\n",
        "train_img = data_img[train_indices[:]]    #train set images\n",
        "train_label = data_label_mapped[train_indices[:]]    #train set labels\n",
        "valid_img = data_img[val_indices[:]]    #validarion set images\n",
        "valid_label = data_label_mapped[val_indices[:]]    #validation set images"
      ],
      "execution_count": 0,
      "outputs": []
    },
    {
      "metadata": {
        "id": "J5I5l8kt5rk0",
        "colab_type": "text"
      },
      "cell_type": "markdown",
      "source": [
        "Visualising the data set using matplotlib to display images"
      ]
    },
    {
      "metadata": {
        "id": "4y9obj4RIkFc",
        "colab_type": "code",
        "outputId": "66b43567-2488-4455-c31c-35b9a8316e36",
        "colab": {
          "base_uri": "https://localhost:8080/",
          "height": 255
        }
      },
      "cell_type": "code",
      "source": [
        "for i in range(1, 9):\n",
        "    axis = plt.subplot(2,4,i)\n",
        "    img = train_img[i]\n",
        "    plt.imshow(img,cmap=\"gray\")\n",
        "    axis.set_title(str(int(train_label[i])))\n",
        "    axis.axis('off')\n"
      ],
      "execution_count": 0,
      "outputs": [
        {
          "output_type": "display_data",
          "data": {
            "image/png": "[encoded data removed]",
            "text/plain": [
              "<Figure size 432x288 with 8 Axes>"
            ]
          },
          "metadata": {
            "tags": []
          }
        }
      ]
    },
    {
      "metadata": {
        "id": "5BliqFfS6L3M",
        "colab_type": "text"
      },
      "cell_type": "markdown",
      "source": [
        "Creating Tensor data set and data loader of train_set and validation set. \n",
        "Pytorch’s DataLoader is responsible for managing batches. You can create a DataLoader from any Dataset. DataLoader makes it easier to iterate over batches and also automatically creates mini batches for you thus refactoring a lot of coding."
      ]
    },
    {
      "metadata": {
        "id": "Ozrn52_wJssF",
        "colab_type": "code",
        "colab": {}
      },
      "cell_type": "code",
      "source": [
        "bs = 16   #batch size\n",
        "\n",
        "x_train, y_train, x_valid, y_valid = map(\n",
        "    torch.tensor, (train_img, train_label, valid_img, valid_label)\n",
        ")\n",
        "\n",
        "train_ds = TensorDataset(x_train, y_train)\n",
        "train_dl = DataLoader(train_ds, batch_size=bs)\n",
        "\n",
        "valid_ds = TensorDataset(x_valid, y_valid)\n",
        "valid_dl = DataLoader(valid_ds, batch_size=bs*2)  #we are keeping batch size for validation set more as it does not require back propogation and hence less memory is needed"
      ],
      "execution_count": 0,
      "outputs": []
    },
    {
      "metadata": {
        "id": "TG38rnqVq4CX",
        "colab_type": "text"
      },
      "cell_type": "markdown",
      "source": [
        "Below is the implementation of function used for calculating the accuracy of our model on validation set after each epoc"
      ]
    },
    {
      "metadata": {
        "id": "BYPZJHLqbP0h",
        "colab_type": "code",
        "colab": {}
      },
      "cell_type": "code",
      "source": [
        "def accuracy(y_hat,y):\n",
        "  _,topclass = y_hat.topk(1,dim=1) \n",
        "  topclass.view(bs*2)    #getting the predicted classes for each input image\n",
        "  eq = topclass==y.view(topclass.shape)  #comparing the prediction with the actual class label\n",
        "  acc = torch.mean(eq.type(torch.FloatTensor))   # calculating the accuracy\n",
        "  return acc"
      ],
      "execution_count": 0,
      "outputs": []
    },
    {
      "metadata": {
        "id": "XzsvbI59HTwd",
        "colab_type": "text"
      },
      "cell_type": "markdown",
      "source": [
        "The function below calucaltes loss of training and validation mini batch and also runs back propogation in case of training batch. If parameter opt (Optimiser) = None we know that it is validation batch and hence dont run back prop. However if opt !=None we run back prop taking the case for training batch."
      ]
    },
    {
      "metadata": {
        "id": "vtK1EU8E9Xbp",
        "colab_type": "code",
        "colab": {}
      },
      "cell_type": "code",
      "source": [
        "def loss_batch(model, loss_func, x_batch, y_batch, opt=None):\n",
        "    y_hat = model(x_batch)  #prediction of medel for the given batch\n",
        "\n",
        "    loss = loss_func(y_hat, y_batch)\n",
        "    acc = None\n",
        "\n",
        "    if opt != None:     # if optimiser is passed as a parameter then we take it as the case of training batch and run back propagation\n",
        "        \n",
        "        #backpro\n",
        "        loss.backward()\n",
        "        opt.step()\n",
        "        opt.zero_grad()\n",
        "        \n",
        "    else:               # if no optimiser is provided , we instead calculate the accuracy for the validation batch\n",
        "      \n",
        "        acc = accuracy(y_hat,y_batch) \n",
        "     \n",
        "\n",
        "    return loss.item(), len(x_batch), acc"
      ],
      "execution_count": 0,
      "outputs": []
    },
    {
      "metadata": {
        "id": "uGfozR65JAjC",
        "colab_type": "text"
      },
      "cell_type": "markdown",
      "source": [
        "fit function implemented below trains the model for given number of epochs passed to it as parameter. It also prints the result as training loss ,validation loss and accuracy after each epoc"
      ]
    },
    {
      "metadata": {
        "id": "qA8sAtY-CNEG",
        "colab_type": "code",
        "colab": {}
      },
      "cell_type": "code",
      "source": [
        "def fit(epochs, model, loss_func, opt, train_dl, valid_dl):\n",
        "  \n",
        "    model.cuda()   #instruction to train the model on gpu\n",
        " \n",
        "    for epoch in range(epochs):   \n",
        "        model.train()\n",
        "        train_loss = 0\n",
        "        \n",
        "        for x_batch, y_batch in train_dl: #looping over mini batches\n",
        "            x_batch = x_batch.cuda()\n",
        "            y_batch = y_batch.cuda()\n",
        "            l, n, a = loss_batch(model, loss_func, x_batch, y_batch, opt)\n",
        "            train_loss = train_loss+l\n",
        "            \n",
        "        train_loss = train_loss/len(train_dl) #calculating average loss\n",
        "\n",
        "        model.eval()\n",
        "        acc = None\n",
        "        \n",
        "        with torch.no_grad():\n",
        "            losses, nums, acc = zip(\n",
        "                *[loss_batch(model, loss_func, x_batch.cuda(), y_batch.cuda()) for x_batch, y_batch in valid_dl]\n",
        "            )\n",
        "        val_loss = np.sum(np.multiply(losses, nums)) / np.sum(nums)\n",
        "        acc = np.sum(np.multiply(acc, nums)) / np.sum(nums)\n",
        "\n",
        "        print(epoch, train_loss, val_loss, acc ,\"(Train loss, Validation loss, Validation Accuracy)\")"
      ],
      "execution_count": 0,
      "outputs": []
    },
    {
      "metadata": {
        "id": "pVfl0COtP7P5",
        "colab_type": "text"
      },
      "cell_type": "markdown",
      "source": [
        "## First model Implementation\n",
        "\n",
        "We will quickly build a basic model and see how it is performing on the data set. We cannot have a deep/big network like vgg nets as amount of data available is not sufficient to effeciently train sucha a large model. So we will build a relatively shallow network.\n",
        "\n",
        "X ---> Conv1 ---> Relu ---> Conv2 ---> Relu ---> BatchNorm1 ---> MaxPool ---> Conv3 --->Relu ---> Conv4 ---> Relu ---> BatchNorm2 ---> MaxPool ---> Conv5 --->Relu ---> Conv6 ---> Relu ---> BatchNorm3 ---> FC1 --->Relu ---> FC2 ---> Relu ---> FC3 ---> LogSoftmax --->Y"
      ]
    },
    {
      "metadata": {
        "id": "h5kQiGy0P8g7",
        "colab_type": "code",
        "colab": {}
      },
      "cell_type": "code",
      "source": [
        "class Mnist_CNN(nn.Module):\n",
        "    def __init__(self):\n",
        "        super().__init__()\n",
        "        self.maxpool = nn.MaxPool2d(2,2)\n",
        "        \n",
        "        self.conv1 = nn.Conv2d(1, 8, kernel_size=3, stride=1,padding = 1)\n",
        "        self.bn1 = nn.BatchNorm2d(8)\n",
        "        self.conv2 = nn.Conv2d(8, 16, kernel_size=3, stride=1,padding = 1)\n",
        "        self.bn2 = nn.BatchNorm2d(16)\n",
        "\n",
        "        self.conv3 = nn.Conv2d(16, 32, kernel_size=3, stride=1, padding = 1)\n",
        "        self.bn3 = nn.BatchNorm2d(32)\n",
        "        self.conv4 = nn.Conv2d(32, 64, kernel_size=3, stride=1,padding = 1)\n",
        "        self.bn4 = nn.BatchNorm2d(64)\n",
        "        \n",
        "        self.conv5 = nn.Conv2d(64, 128, kernel_size=3, stride=1, padding = 1)\n",
        "        self.bn5 = nn.BatchNorm2d(128)\n",
        "        self.conv6 = nn.Conv2d(128, 256, kernel_size=3, stride=1,padding = 1)\n",
        "        self.bn6 = nn.BatchNorm2d(256)\n",
        "        \n",
        "        \n",
        "        self.fc1 = nn.Linear(7*7*256,1000)\n",
        "        self.fc2 = nn.Linear(1000,100)\n",
        "        self.fc3 = nn.Linear(100,4)\n",
        "\n",
        "    def forward(self, xb):\n",
        "        xb = xb.view(-1, 1, 28, 28)\n",
        "\n",
        "        xb = F.relu(self.bn1(self.conv1(xb)))\n",
        "\n",
        "        xb = F.relu(self.bn2(self.conv2(xb)))\n",
        "\n",
        "        xb = self.maxpool(xb)\n",
        "\n",
        "        xb = F.relu(self.bn3(self.conv3(xb)))\n",
        "\n",
        "        xb = F.relu(self.bn4(self.conv4(xb)))\n",
        "\n",
        "        xb = self.maxpool(xb)\n",
        "\n",
        "        xb = F.relu(self.bn5(self.conv5(xb)))\n",
        "        \n",
        "        xb = F.relu(self.bn6(self.conv6(xb)))\n",
        "        \n",
        "\n",
        "        xb = xb.view(-1,7*7*256)\n",
        "        \n",
        "        xb = F.relu(self.fc1(xb))\n",
        "\n",
        "        xb = F.relu(self.fc2(xb))\n",
        "        \n",
        "        xb = self.fc3(xb)\n",
        "        \n",
        "        xb = F.log_softmax(xb,dim=1)\n",
        "\n",
        "        return xb"
      ],
      "execution_count": 0,
      "outputs": []
    },
    {
      "metadata": {
        "id": "GDfl1DzjQLnS",
        "colab_type": "text"
      },
      "cell_type": "markdown",
      "source": [
        "Trainig the given model for 30 epochs. We can see the model starts overfitting just after 6-7 epochs as training validation loss starts increasing .\n",
        "So we can stop training the model early to prevnt over fitting"
      ]
    },
    {
      "metadata": {
        "id": "wKC7IYDZRVuz",
        "colab_type": "code",
        "outputId": "2fefea32-39c8-47ff-8ea4-56e6eb2df1a9",
        "colab": {
          "base_uri": "https://localhost:8080/",
          "height": 187
        }
      },
      "cell_type": "code",
      "source": [
        "loss_func = nn.NLLLoss()\n",
        "model = Mnist_CNN()\n",
        "opt = optim.Adam(model.parameters(), lr=0.001)\n",
        "\n",
        "fit(10, model, loss_func, opt, train_dl, valid_dl)"
      ],
      "execution_count": 0,
      "outputs": [
        {
          "output_type": "stream",
          "text": [
            "0 0.5831912258639932 0.5022831839323044 0.81625 (Train loss, Validation loss, Validation Accuracy)\n",
            "1 0.4022861315868795 0.4528235301375389 0.82625 (Train loss, Validation loss, Validation Accuracy)\n",
            "2 0.32880141797475515 0.44404417857527734 0.84125 (Train loss, Validation loss, Validation Accuracy)\n",
            "3 0.2770838150661439 0.48117614567279815 0.841875 (Train loss, Validation loss, Validation Accuracy)\n",
            "4 0.2391244969330728 0.4204243941605091 0.85125 (Train loss, Validation loss, Validation Accuracy)\n",
            "5 0.20172451894730328 0.48005597084760665 0.83625 (Train loss, Validation loss, Validation Accuracy)\n",
            "6 0.17253512552939354 0.5155504375696183 0.85 (Train loss, Validation loss, Validation Accuracy)\n",
            "7 0.14410212346352635 0.46586009725928307 0.85125 (Train loss, Validation loss, Validation Accuracy)\n",
            "8 0.12117835775017738 0.568631980419159 0.84875 (Train loss, Validation loss, Validation Accuracy)\n",
            "9 0.10484115674160421 0.546810368001461 0.86125 (Train loss, Validation loss, Validation Accuracy)\n"
          ],
          "name": "stdout"
        }
      ]
    },
    {
      "metadata": {
        "id": "D1i8SVUvOg0-",
        "colab_type": "text"
      },
      "cell_type": "markdown",
      "source": [
        "## Second model Implementation\n",
        "\n",
        "We will keep most of the model same, just add a bit regularization.\n"
      ]
    },
    {
      "metadata": {
        "id": "JcHaq_5wZEUG",
        "colab_type": "code",
        "colab": {}
      },
      "cell_type": "code",
      "source": [
        "class Mnist_CNN(nn.Module):\n",
        "    def __init__(self):\n",
        "        super().__init__()\n",
        "        self.maxpool = nn.MaxPool2d(2,2)\n",
        "        \n",
        "        self.conv1 = nn.Conv2d(1, 8, kernel_size=3, stride=1,padding = 1)\n",
        "        self.bn1 = nn.BatchNorm2d(8)\n",
        "        self.conv2 = nn.Conv2d(8, 16, kernel_size=3, stride=1,padding = 1)\n",
        "        self.bn2 = nn.BatchNorm2d(16)\n",
        "\n",
        "        self.conv3 = nn.Conv2d(16, 32, kernel_size=3, stride=1, padding = 1)\n",
        "        self.bn3 = nn.BatchNorm2d(32)\n",
        "        self.conv4 = nn.Conv2d(32, 64, kernel_size=3, stride=1,padding = 1)\n",
        "        self.bn4 = nn.BatchNorm2d(64)\n",
        "        \n",
        "        self.conv5 = nn.Conv2d(64, 128, kernel_size=3, stride=1, padding = 1)\n",
        "        self.bn5 = nn.BatchNorm2d(128)\n",
        "        self.conv6 = nn.Conv2d(128, 256, kernel_size=3, stride=1,padding = 1)\n",
        "        self.bn6 = nn.BatchNorm2d(256)\n",
        "        \n",
        "        \n",
        "        self.fc1 = nn.Linear(7*7*256,1000)\n",
        "#         self.fc2 = nn.Linear(1000,100)\n",
        "        self.fc3 = nn.Linear(1000,4)\n",
        "\n",
        "    def forward(self, xb):        \n",
        "        \n",
        "        xb = xb.view(-1, 1, 28, 28)\n",
        "\n",
        "        xb = F.relu(self.bn1(self.conv1(xb)))\n",
        "        \n",
        "        xb = F.dropout(xb,p=0.55)\n",
        "\n",
        "        xb = F.relu(self.bn2(self.conv2(xb)))\n",
        "        \n",
        "        xb = F.dropout(xb,p=0.45)\n",
        "\n",
        "        xb = self.maxpool(xb)\n",
        "\n",
        "        xb = F.relu(self.bn3(self.conv3(xb)))\n",
        "        \n",
        "        xb = F.dropout(xb,p=0.35)\n",
        "\n",
        "        xb = F.relu(self.bn4(self.conv4(xb)))\n",
        "        \n",
        "        xb = F.dropout(xb,p=0.25)\n",
        "\n",
        "        xb = self.maxpool(xb)\n",
        "\n",
        "        xb = F.relu(self.bn5(self.conv5(xb)))\n",
        "        \n",
        "        xb = F.dropout(xb,p=0.15)\n",
        "        \n",
        "        xb = F.relu(self.bn6(self.conv6(xb)))\n",
        "        \n",
        "\n",
        "        xb = xb.view(-1,7*7*256)\n",
        "        \n",
        "        xb = F.relu(self.fc1(xb))\n",
        "        \n",
        "        xb = F.dropout(xb,p=0.25)\n",
        "\n",
        "#         xb = F.relu(self.fc2(xb))\n",
        "        \n",
        "#         xb = F.dropout(xb,p=0.15)\n",
        "        \n",
        "        xb = self.fc3(xb)\n",
        "        \n",
        "        xb = F.log_softmax(xb,dim=1)\n",
        "\n",
        "        \n",
        "\n",
        "        return xb"
      ],
      "execution_count": 0,
      "outputs": []
    },
    {
      "metadata": {
        "id": "gzW_x0SIZYYe",
        "colab_type": "code",
        "colab": {}
      },
      "cell_type": "code",
      "source": [
        "model = Mnist_CNN()\n",
        "opt = optim.Adam(model.parameters(), lr=0.001)\n",
        "\n",
        "fit(12, model, loss_func, opt, train_dl, valid_dl)"
      ],
      "execution_count": 0,
      "outputs": []
    },
    {
      "metadata": {
        "id": "HEm41YPtV2y8",
        "colab_type": "text"
      },
      "cell_type": "markdown",
      "source": [
        "Below is generating the csv file on test image"
      ]
    },
    {
      "metadata": {
        "id": "4cKOiIAINfDE",
        "colab_type": "code",
        "colab": {}
      },
      "cell_type": "code",
      "source": [
        "with open(dest/'test_image.pkl', 'rb') as r:\n",
        "    test_data = pickle.load(r)"
      ],
      "execution_count": 0,
      "outputs": []
    },
    {
      "metadata": {
        "id": "hRaL1_2mO1z4",
        "colab_type": "code",
        "outputId": "cb987d07-5582-40a8-cfae-7d59c4fdeb92",
        "colab": {
          "base_uri": "https://localhost:8080/",
          "height": 34
        }
      },
      "cell_type": "code",
      "source": [
        "test_imgs = np.array(test_data,dtype='float32').reshape(2000,28,28)\n",
        "test_imgs[0].shape"
      ],
      "execution_count": 0,
      "outputs": [
        {
          "output_type": "execute_result",
          "data": {
            "text/plain": [
              "(28, 28)"
            ]
          },
          "metadata": {
            "tags": []
          },
          "execution_count": 49
        }
      ]
    },
    {
      "metadata": {
        "id": "lEUuJJPYPXLs",
        "colab_type": "code",
        "outputId": "8c40378d-090d-4aee-efe1-0dde0296c082",
        "colab": {
          "base_uri": "https://localhost:8080/",
          "height": 286
        }
      },
      "cell_type": "code",
      "source": [
        "plt.imshow(test_imgs[0],cmap=\"gray\")"
      ],
      "execution_count": 0,
      "outputs": [
        {
          "output_type": "execute_result",
          "data": {
            "text/plain": [
              "<matplotlib.image.AxesImage at 0x7f0ee86ccac8>"
            ]
          },
          "metadata": {
            "tags": []
          },
          "execution_count": 50
        },
        {
          "output_type": "display_data",
          "data": {
            "image/png": "[encoded data removed]",
            "text/plain": [
              "<Figure size 432x288 with 1 Axes>"
            ]
          },
          "metadata": {
            "tags": []
          }
        }
      ]
    },
    {
      "metadata": {
        "id": "VH1PhBwgPzXf",
        "colab_type": "code",
        "colab": {}
      },
      "cell_type": "code",
      "source": [
        "labels = []\n",
        "for image in test_imgs:\n",
        "  image = transforms.ToTensor()(image)\n",
        "  #image = torch.unsqueeze(image,dim=0)\n",
        "  image = image.cuda()\n",
        "  y = model(image)\n",
        "  ex = torch.exp(y)\n",
        "  _,top_class = ex.topk(1,dim=1)\n",
        "  labels.append(top_class)"
      ],
      "execution_count": 0,
      "outputs": []
    },
    {
      "metadata": {
        "id": "I78IAGgcSJy-",
        "colab_type": "code",
        "colab": {}
      },
      "cell_type": "code",
      "source": [
        "def map_back(x):\n",
        "  if x==0:\n",
        "    return 0\n",
        "  elif x==1:\n",
        "    return 2\n",
        "  elif x==2:\n",
        "    return 3\n",
        "  else:\n",
        "    return 6"
      ],
      "execution_count": 0,
      "outputs": []
    },
    {
      "metadata": {
        "id": "oND7SLEbUkvD",
        "colab_type": "code",
        "colab": {}
      },
      "cell_type": "code",
      "source": [
        "final_labels = [map_back(x) for x in labels]"
      ],
      "execution_count": 0,
      "outputs": []
    },
    {
      "metadata": {
        "id": "aTQMA_vSUydM",
        "colab_type": "code",
        "colab": {}
      },
      "cell_type": "code",
      "source": [
        "rows = []\n",
        "for i in range(len(final_labels)):\n",
        "    l = []\n",
        "    l.append(i)\n",
        "    l.append(final_labels[i])\n",
        "    rows.append(l)"
      ],
      "execution_count": 0,
      "outputs": []
    },
    {
      "metadata": {
        "id": "wcfHxWdOVQQE",
        "colab_type": "code",
        "colab": {}
      },
      "cell_type": "code",
      "source": [
        "Outputs = pd.DataFrame(rows,columns=['image_index','class'])\n",
        "Outputs.to_csv('Anant_Rai.csv',index = False)"
      ],
      "execution_count": 0,
      "outputs": []
    },
    {
      "metadata": {
        "id": "smgxoa2dVmDn",
        "colab_type": "code",
        "colab": {}
      },
      "cell_type": "code",
      "source": [
        ""
      ],
      "execution_count": 0,
      "outputs": []
    }
  ]
}