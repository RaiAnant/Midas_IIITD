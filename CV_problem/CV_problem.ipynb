{
  "nbformat": 4,
  "nbformat_minor": 0,
  "metadata": {
    "colab": {
      "name": "Untitled3.ipynb",
      "version": "0.3.2",
      "provenance": [],
      "collapsed_sections": []
    },
    "kernelspec": {
      "name": "python3",
      "display_name": "Python 3"
    },
    "accelerator": "GPU"
  },
  "cells": [
    {
      "metadata": {
        "id": "N6ORIsL2zT2g",
        "colab_type": "code",
        "colab": {}
      },
      "cell_type": "code",
      "source": [
        "from pathlib import Path\n",
        "import pickle\n",
        "import numpy as np\n",
        "\n",
        "import matplotlib.pyplot as plt\n",
        "\n",
        "from torch.utils.data import DataLoader\n",
        "from torch.utils.data import TensorDataset\n",
        "import torch\n",
        "from torch import nn\n",
        "from torch import optim\n",
        "import torch.nn.functional as F"
      ],
      "execution_count": 0,
      "outputs": []
    },
    {
      "metadata": {
        "id": "HR85-xlPtT5-",
        "colab_type": "text"
      },
      "cell_type": "markdown",
      "source": [
        "#**Building a CNN model for classification of the given dataset**\n"
      ]
    },
    {
      "metadata": {
        "id": "Qu20XkmJ5hw9",
        "colab_type": "code",
        "colab": {}
      },
      "cell_type": "code",
      "source": [
        "dest = Path('Data')  #creating a folder to load data into \n",
        "dest.mkdir(parents=True, exist_ok=True)"
      ],
      "execution_count": 0,
      "outputs": []
    },
    {
      "metadata": {
        "id": "5QK-oQsRvhUg",
        "colab_type": "text"
      },
      "cell_type": "markdown",
      "source": [
        "Loading the data from file into variables and checking out the labels."
      ]
    },
    {
      "metadata": {
        "id": "CZGK2wO1vdCb",
        "colab_type": "code",
        "outputId": "3323603e-0700-4579-f5a6-cdd364848bfb",
        "colab": {
          "base_uri": "https://localhost:8080/",
          "height": 34
        }
      },
      "cell_type": "code",
      "source": [
        "with open(dest/'train_image.pkl', 'rb') as f:\n",
        "    data_img = np.array(pickle.load(f),dtype='float32').reshape(8000,28,28)  # reshaping the each data into 2D matrix\n",
        "with open(dest/'train_label.pkl', 'rb') as f:\n",
        "    data_label = np.array(pickle.load(f))\n",
        "set(data_label.flatten())  #looking at all the set of labeles"
      ],
      "execution_count": 0,
      "outputs": [
        {
          "output_type": "execute_result",
          "data": {
            "text/plain": [
              "{0, 2, 3, 6}"
            ]
          },
          "metadata": {
            "tags": []
          },
          "execution_count": 3
        }
      ]
    },
    {
      "metadata": {
        "id": "OHFtUxF5t1yh",
        "colab_type": "text"
      },
      "cell_type": "markdown",
      "source": [
        "Now the data set has 4 labels (0,2,3,6). The following function maps these valuse to default labels 0,1,2 and 3 for the convenience of model building. We then use the function on the extracted labels."
      ]
    },
    {
      "metadata": {
        "id": "yNCcF7bHHbcE",
        "colab_type": "code",
        "outputId": "eafe22ec-1921-477f-8aed-912c76e70206",
        "colab": {
          "base_uri": "https://localhost:8080/",
          "height": 34
        }
      },
      "cell_type": "code",
      "source": [
        "def map_vect(x):\n",
        "  if x==0:\n",
        "    return 0\n",
        "  elif x==2:\n",
        "    return 1\n",
        "  elif x==3:\n",
        "    return 2\n",
        "  else:\n",
        "    return 3\n",
        "\n",
        "data_label_mapped = np.array([map_vect(x) for x in data_label])\n",
        "set(data_label_mapped.flatten())"
      ],
      "execution_count": 0,
      "outputs": [
        {
          "output_type": "execute_result",
          "data": {
            "text/plain": [
              "{0, 1, 2, 3}"
            ]
          },
          "metadata": {
            "tags": []
          },
          "execution_count": 4
        }
      ]
    },
    {
      "metadata": {
        "id": "N6aYzQLw3nk-",
        "colab_type": "text"
      },
      "cell_type": "markdown",
      "source": [
        "Setting up for splitting data into train and validation set"
      ]
    },
    {
      "metadata": {
        "id": "ujsEozFl9v8R",
        "colab_type": "code",
        "colab": {}
      },
      "cell_type": "code",
      "source": [
        "data_size = len(data_img)    #total number of images\n",
        "validation_split = .2  #ratio of data to be put into validation set\n",
        "indices = list(range(data_size))  #getting the indices in form of list\n",
        "split = int(np.floor(validation_split * data_size))  #amount of data to be split into validation set"
      ],
      "execution_count": 0,
      "outputs": []
    },
    {
      "metadata": {
        "id": "pjtPBvAHZpE8",
        "colab_type": "code",
        "colab": {}
      },
      "cell_type": "code",
      "source": [
        "random_seed= 77\n",
        "np.random.seed(random_seed)\n",
        "np.random.shuffle(indices)  #shuffling the indices randomly"
      ],
      "execution_count": 0,
      "outputs": []
    },
    {
      "metadata": {
        "id": "Ry5BJgIm5Dq9",
        "colab_type": "text"
      },
      "cell_type": "markdown",
      "source": [
        "Splitting the data into train_set and valid_set"
      ]
    },
    {
      "metadata": {
        "id": "KovKmu5UIL7d",
        "colab_type": "code",
        "colab": {}
      },
      "cell_type": "code",
      "source": [
        "train_indices, val_indices = indices[split:], indices[:split]\n",
        "train_img = data_img[train_indices[:]]    #train set images\n",
        "train_label = data_label_mapped[train_indices[:]]    #train set labels\n",
        "valid_img = data_img[val_indices[:]]    #validarion set images\n",
        "valid_label = data_label_mapped[val_indices[:]]    #validation set images"
      ],
      "execution_count": 0,
      "outputs": []
    },
    {
      "metadata": {
        "id": "J5I5l8kt5rk0",
        "colab_type": "text"
      },
      "cell_type": "markdown",
      "source": [
        "Visualising the data set using matplotlib to display images"
      ]
    },
    {
      "metadata": {
        "id": "4y9obj4RIkFc",
        "colab_type": "code",
        "outputId": "27e9f6d7-dbe1-41c2-aec4-0858ed7f21bc",
        "colab": {
          "base_uri": "https://localhost:8080/",
          "height": 255
        }
      },
      "cell_type": "code",
      "source": [
        "for i in range(1, 9):\n",
        "    axis = plt.subplot(2,4,i)\n",
        "    img = train_img[i]\n",
        "    plt.imshow(img,cmap=\"gray\")\n",
        "    axis.set_title(str(int(train_label[i])))\n",
        "    axis.axis('off')\n"
      ],
      "execution_count": 0,
      "outputs": [
        {
          "output_type": "display_data",
          "data": {
            "image/png": "[encoded data removed]",
            "text/plain": [
              "<Figure size 432x288 with 8 Axes>"
            ]
          },
          "metadata": {
            "tags": []
          }
        }
      ]
    },
    {
      "metadata": {
        "id": "5BliqFfS6L3M",
        "colab_type": "text"
      },
      "cell_type": "markdown",
      "source": [
        "Creating Tensor data set and data loader of train_set and validation set. \n",
        "Pytorch’s DataLoader is responsible for managing batches. You can create a DataLoader from any Dataset. DataLoader makes it easier to iterate over batches and also automatically creates mini batches for you thus refactoring a lot of coding."
      ]
    },
    {
      "metadata": {
        "id": "Ozrn52_wJssF",
        "colab_type": "code",
        "colab": {}
      },
      "cell_type": "code",
      "source": [
        "bs = 16   #batch size\n",
        "\n",
        "x_train, y_train, x_valid, y_valid = map(\n",
        "    torch.tensor, (train_img, train_label, valid_img, valid_label)\n",
        ")\n",
        "\n",
        "train_ds = TensorDataset(x_train, y_train)\n",
        "train_dl = DataLoader(train_ds, batch_size=bs)\n",
        "\n",
        "valid_ds = TensorDataset(x_valid, y_valid)\n",
        "valid_dl = DataLoader(valid_ds, batch_size=bs*2)  #we are keeping batch size for validation set more as it does not require back propogation and hence less memory is needed"
      ],
      "execution_count": 0,
      "outputs": []
    },
    {
      "metadata": {
        "id": "TG38rnqVq4CX",
        "colab_type": "text"
      },
      "cell_type": "markdown",
      "source": [
        "Below is the implementation of function used for calculating the accuracy of our model on validation set after each epoc"
      ]
    },
    {
      "metadata": {
        "id": "BYPZJHLqbP0h",
        "colab_type": "code",
        "colab": {}
      },
      "cell_type": "code",
      "source": [
        "def accuracy(y_hat,y):\n",
        "  _,topclass = y_hat.topk(1,dim=1) \n",
        "  topclass.view(bs*2)    #getting the predicted classes for each input image\n",
        "  eq = topclass==y.view(topclass.shape)  #comparing the prediction with the actual class label\n",
        "  acc = torch.mean(eq.type(torch.FloatTensor))   # calculating the accuracy\n",
        "  return acc"
      ],
      "execution_count": 0,
      "outputs": []
    },
    {
      "metadata": {
        "id": "XzsvbI59HTwd",
        "colab_type": "text"
      },
      "cell_type": "markdown",
      "source": [
        "The function below calucaltes loss of training and validation mini batch and also runs back propogation in case of training batch. If parameter opt (Optimiser) = None we know that it is validation batch and hence dont run back prop. However if opt !=None we run back prop taking the case for training batch."
      ]
    },
    {
      "metadata": {
        "id": "vtK1EU8E9Xbp",
        "colab_type": "code",
        "colab": {}
      },
      "cell_type": "code",
      "source": [
        "def loss_batch(model, loss_func, x_batch, y_batch, opt=None):\n",
        "    y_hat = model(x_batch)  #prediction of medel for the given batch\n",
        "\n",
        "    loss = loss_func(y_hat, y_batch)\n",
        "    acc = None\n",
        "\n",
        "    if opt != None:     # if optimiser is passed as a parameter then we take it as the case of training batch and run back propagation\n",
        "        \n",
        "        #backpro\n",
        "        loss.backward()\n",
        "        opt.step()\n",
        "        opt.zero_grad()\n",
        "        \n",
        "    else:               # if no optimiser is provided , we instead calculate the accuracy for the validation batch\n",
        "      \n",
        "        acc = accuracy(y_hat,y_batch) \n",
        "     \n",
        "\n",
        "    return loss.item(), len(x_batch), acc"
      ],
      "execution_count": 0,
      "outputs": []
    },
    {
      "metadata": {
        "id": "uGfozR65JAjC",
        "colab_type": "text"
      },
      "cell_type": "markdown",
      "source": [
        "fit function implemented below trains the model for given number of epochs passed to it as parameter. It also prints the result as training loss ,validation loss and accuracy after each epoc"
      ]
    },
    {
      "metadata": {
        "id": "qA8sAtY-CNEG",
        "colab_type": "code",
        "colab": {}
      },
      "cell_type": "code",
      "source": [
        "def fit(epochs, model, loss_func, opt, train_dl, valid_dl):\n",
        "  \n",
        "    model.cuda()   #instruction to train the model on gpu\n",
        " \n",
        "    for epoch in range(epochs):   \n",
        "        model.train()\n",
        "        train_loss = 0\n",
        "        \n",
        "        for x_batch, y_batch in train_dl: #looping over mini batches\n",
        "            x_batch = x_batch.cuda()\n",
        "            y_batch = y_batch.cuda()\n",
        "            l, n, a = loss_batch(model, loss_func, x_batch, y_batch, opt)\n",
        "            train_loss = train_loss+l\n",
        "            \n",
        "        train_loss = train_loss/len(train_dl) #calculating average loss\n",
        "\n",
        "        model.eval()\n",
        "        acc = None\n",
        "        \n",
        "        with torch.no_grad():\n",
        "            losses, nums, acc = zip(\n",
        "                *[loss_batch(model, loss_func, x_batch.cuda(), y_batch.cuda()) for x_batch, y_batch in valid_dl]\n",
        "            )\n",
        "        val_loss = np.sum(np.multiply(losses, nums)) / np.sum(nums)\n",
        "        acc = np.sum(np.multiply(acc, nums)) / np.sum(nums)\n",
        "\n",
        "        print(epoch, train_loss, val_loss, acc ,\"(Train loss, Validation loss, Validation Accuracy)\")"
      ],
      "execution_count": 0,
      "outputs": []
    },
    {
      "metadata": {
        "id": "pVfl0COtP7P5",
        "colab_type": "text"
      },
      "cell_type": "markdown",
      "source": [
        "## First model Implementation\n",
        "\n",
        "We will quickly build a basic model and see how it is performing on the data set. We cannot have a deep/big network like vgg nets as amount of data available is not sufficient to effeciently train sucha a large model. So we will build a relatively shallow network.\n",
        "\n",
        "X ---> Conv1 ---> Relu ---> Conv2 ---> Relu ---> BatchNorm1 ---> MaxPool ---> Conv3 --->Relu ---> Conv4 ---> Relu ---> BatchNorm2 ---> MaxPool ---> Conv5 --->Relu ---> Conv6 ---> Relu ---> BatchNorm3 ---> FC1 --->Relu ---> FC2 ---> Relu ---> FC3 ---> LogSoftmax --->Y"
      ]
    },
    {
      "metadata": {
        "id": "h5kQiGy0P8g7",
        "colab_type": "code",
        "colab": {}
      },
      "cell_type": "code",
      "source": [
        "class Mnist_CNN(nn.Module):\n",
        "    def __init__(self):\n",
        "        super().__init__()\n",
        "        self.maxpool = nn.MaxPool2d(2,2)\n",
        "        \n",
        "        self.conv1 = nn.Conv2d(1, 8, kernel_size=3, stride=1,padding = 1)\n",
        "        self.bn1 = nn.BatchNorm2d(8)\n",
        "        self.conv2 = nn.Conv2d(8, 16, kernel_size=3, stride=1,padding = 1)\n",
        "        self.bn2 = nn.BatchNorm2d(16)\n",
        "\n",
        "        self.conv3 = nn.Conv2d(16, 32, kernel_size=3, stride=1, padding = 1)\n",
        "        self.bn3 = nn.BatchNorm2d(32)\n",
        "        self.conv4 = nn.Conv2d(32, 64, kernel_size=3, stride=1,padding = 1)\n",
        "        self.bn4 = nn.BatchNorm2d(64)\n",
        "        \n",
        "        self.conv5 = nn.Conv2d(64, 128, kernel_size=3, stride=1, padding = 1)\n",
        "        self.bn5 = nn.BatchNorm2d(128)\n",
        "        self.conv6 = nn.Conv2d(128, 256, kernel_size=3, stride=1,padding = 1)\n",
        "        self.bn6 = nn.BatchNorm2d(256)\n",
        "        \n",
        "        \n",
        "        self.fc1 = nn.Linear(7*7*256,1000)\n",
        "        self.fc2 = nn.Linear(1000,100)\n",
        "        self.fc3 = nn.Linear(100,4)\n",
        "\n",
        "    def forward(self, xb):\n",
        "        xb = xb.view(-1, 1, 28, 28)\n",
        "\n",
        "        xb = F.relu(self.bn1(self.conv1(xb)))\n",
        "\n",
        "        xb = F.relu(self.bn2(self.conv2(xb)))\n",
        "\n",
        "        xb = self.maxpool(xb)\n",
        "\n",
        "        xb = F.relu(self.bn3(self.conv3(xb)))\n",
        "\n",
        "        xb = F.relu(self.bn4(self.conv4(xb)))\n",
        "\n",
        "        xb = self.maxpool(xb)\n",
        "\n",
        "        xb = F.relu(self.bn5(self.conv5(xb)))\n",
        "        \n",
        "        xb = F.relu(self.bn6(self.conv6(xb)))\n",
        "        \n",
        "\n",
        "        xb = xb.view(-1,7*7*256)\n",
        "        \n",
        "        xb = F.relu(self.fc1(xb))\n",
        "\n",
        "        xb = F.relu(self.fc2(xb))\n",
        "        \n",
        "        xb = self.fc3(xb)\n",
        "        \n",
        "        xb = F.log_softmax(xb,dim=1)\n",
        "\n",
        "        return xb"
      ],
      "execution_count": 0,
      "outputs": []
    },
    {
      "metadata": {
        "id": "GDfl1DzjQLnS",
        "colab_type": "text"
      },
      "cell_type": "markdown",
      "source": [
        "Trainig the given model for 30 epochs. We can see the model starts overfitting just after 6-7 epochs as training validation loss starts increasing .\n",
        "So we can stop training the model early to prevnt over fitting"
      ]
    },
    {
      "metadata": {
        "id": "wKC7IYDZRVuz",
        "colab_type": "code",
        "outputId": "cc250edc-0c15-43bf-f18f-2e9c792aacbb",
        "colab": {
          "base_uri": "https://localhost:8080/",
          "height": 527
        }
      },
      "cell_type": "code",
      "source": [
        "loss_func = nn.NLLLoss()\n",
        "model = Mnist_CNN()\n",
        "opt = optim.Adam(model.parameters(), lr=0.001)\n",
        "\n",
        "fit(30, model, loss_func, opt, train_dl, valid_dl)"
      ],
      "execution_count": 0,
      "outputs": [
        {
          "output_type": "stream",
          "text": [
            "0 0.5536320560239255 0.5883753442764282 0.821875 (Train loss, Validation loss, Validation Accuracy)\n",
            "1 0.3829866089858115 0.4802435202896595 0.8425 (Train loss, Validation loss, Validation Accuracy)\n",
            "2 0.30976767707616093 0.5620652040839196 0.838125 (Train loss, Validation loss, Validation Accuracy)\n",
            "3 0.2630756007414311 0.4779361373186111 0.843125 (Train loss, Validation loss, Validation Accuracy)\n",
            "4 0.23051006568595767 0.4576839543879032 0.85625 (Train loss, Validation loss, Validation Accuracy)\n",
            "5 0.18722562754526734 0.5149331326782703 0.868125 (Train loss, Validation loss, Validation Accuracy)\n",
            "6 0.1665618116874248 0.4708438678085804 0.856875 (Train loss, Validation loss, Validation Accuracy)\n",
            "7 0.14401511906646192 0.5445600724220276 0.856875 (Train loss, Validation loss, Validation Accuracy)\n",
            "8 0.11934659225866198 0.6872199022769928 0.84375 (Train loss, Validation loss, Validation Accuracy)\n",
            "9 0.09893122905865312 0.6604534660279751 0.8575 (Train loss, Validation loss, Validation Accuracy)\n",
            "10 0.0921797876805067 0.6872244918346405 0.84625 (Train loss, Validation loss, Validation Accuracy)\n",
            "11 0.07680146904662251 0.5833913791179657 0.859375 (Train loss, Validation loss, Validation Accuracy)\n",
            "12 0.07229105422273278 0.61589375436306 0.840625 (Train loss, Validation loss, Validation Accuracy)\n",
            "13 0.05742673967964947 0.7920405936241149 0.845625 (Train loss, Validation loss, Validation Accuracy)\n",
            "14 0.061188781457021835 0.695185829102993 0.863125 (Train loss, Validation loss, Validation Accuracy)\n",
            "15 0.05354828662006184 0.7535491636395455 0.8575 (Train loss, Validation loss, Validation Accuracy)\n",
            "16 0.03637661469168961 0.8490332552790641 0.855625 (Train loss, Validation loss, Validation Accuracy)\n",
            "17 0.04707250622101128 0.7885652147233486 0.853125 (Train loss, Validation loss, Validation Accuracy)\n",
            "18 0.04391516594216228 0.7666027753055096 0.85375 (Train loss, Validation loss, Validation Accuracy)\n",
            "19 0.029760013446211816 0.8084990194439888 0.874375 (Train loss, Validation loss, Validation Accuracy)\n",
            "20 0.036915352595970036 0.7662430139631033 0.865 (Train loss, Validation loss, Validation Accuracy)\n",
            "21 0.027961217695847154 0.7240584155917168 0.855625 (Train loss, Validation loss, Validation Accuracy)\n",
            "22 0.030133627420291305 0.7987674391269683 0.86375 (Train loss, Validation loss, Validation Accuracy)\n",
            "23 0.025926779862493275 0.8370603328943252 0.860625 (Train loss, Validation loss, Validation Accuracy)\n",
            "24 0.023284577857702972 0.7539515794813633 0.855625 (Train loss, Validation loss, Validation Accuracy)\n",
            "25 0.02503566232509911 0.8330962491780519 0.861875 (Train loss, Validation loss, Validation Accuracy)\n",
            "26 0.023359175184741617 1.0197545087337494 0.84875 (Train loss, Validation loss, Validation Accuracy)\n",
            "27 0.03606943401508033 0.7464435216784477 0.855 (Train loss, Validation loss, Validation Accuracy)\n",
            "28 0.026528523378074167 0.86822226382792 0.8675 (Train loss, Validation loss, Validation Accuracy)\n",
            "29 0.02847579330904409 0.8233938284218312 0.860625 (Train loss, Validation loss, Validation Accuracy)\n"
          ],
          "name": "stdout"
        }
      ]
    },
    {
      "metadata": {
        "id": "JcHaq_5wZEUG",
        "colab_type": "code",
        "colab": {}
      },
      "cell_type": "code",
      "source": [
        "class Mnist_CNN(nn.Module):\n",
        "    def __init__(self):\n",
        "        super().__init__()\n",
        "        self.maxpool = nn.MaxPool2d(2,2)\n",
        "        \n",
        "        self.conv1 = nn.Conv2d(1, 8, kernel_size=3, stride=1,padding = 1)\n",
        "        self.bn1 = nn.BatchNorm2d(8)\n",
        "        self.conv2 = nn.Conv2d(8, 16, kernel_size=3, stride=1,padding = 1)\n",
        "        self.bn2 = nn.BatchNorm2d(16)\n",
        "\n",
        "        self.conv3 = nn.Conv2d(16, 32, kernel_size=3, stride=1, padding = 1)\n",
        "        self.bn3 = nn.BatchNorm2d(32)\n",
        "        self.conv4 = nn.Conv2d(32, 64, kernel_size=3, stride=1,padding = 1)\n",
        "        self.bn4 = nn.BatchNorm2d(64)\n",
        "        \n",
        "        self.conv5 = nn.Conv2d(64, 128, kernel_size=3, stride=1, padding = 1)\n",
        "        self.bn5 = nn.BatchNorm2d(128)\n",
        "        self.conv6 = nn.Conv2d(128, 256, kernel_size=3, stride=1,padding = 1)\n",
        "        self.bn6 = nn.BatchNorm2d(256)\n",
        "        \n",
        "        \n",
        "        self.fc1 = nn.Linear(7*7*256,1000)\n",
        "#         self.fc2 = nn.Linear(1000,100)\n",
        "        self.fc3 = nn.Linear(1000,4)\n",
        "\n",
        "    def forward(self, xb):        \n",
        "        \n",
        "        xb = xb.view(-1, 1, 28, 28)\n",
        "\n",
        "        xb = F.relu(self.bn1(self.conv1(xb)))\n",
        "        \n",
        "        xb = F.dropout(xb,p=0.55)\n",
        "\n",
        "        xb = F.relu(self.bn2(self.conv2(xb)))\n",
        "        \n",
        "        xb = F.dropout(xb,p=0.45)\n",
        "\n",
        "        xb = self.maxpool(xb)\n",
        "\n",
        "        xb = F.relu(self.bn3(self.conv3(xb)))\n",
        "        \n",
        "        xb = F.dropout(xb,p=0.35)\n",
        "\n",
        "        xb = F.relu(self.bn4(self.conv4(xb)))\n",
        "        \n",
        "        xb = F.dropout(xb,p=0.25)\n",
        "\n",
        "        xb = self.maxpool(xb)\n",
        "\n",
        "        xb = F.relu(self.bn5(self.conv5(xb)))\n",
        "        \n",
        "        xb = F.dropout(xb,p=0.15)\n",
        "        \n",
        "        xb = F.relu(self.bn6(self.conv6(xb)))\n",
        "        \n",
        "\n",
        "        xb = xb.view(-1,7*7*256)\n",
        "        \n",
        "        xb = F.relu(self.fc1(xb))\n",
        "        \n",
        "        xb = F.dropout(xb,p=0.25)\n",
        "\n",
        "#         xb = F.relu(self.fc2(xb))\n",
        "        \n",
        "#         xb = F.dropout(xb,p=0.15)\n",
        "        \n",
        "        xb = self.fc3(xb)\n",
        "        \n",
        "        xb = F.log_softmax(xb,dim=1)\n",
        "\n",
        "        \n",
        "\n",
        "        return xb"
      ],
      "execution_count": 0,
      "outputs": []
    },
    {
      "metadata": {
        "id": "gzW_x0SIZYYe",
        "colab_type": "code",
        "outputId": "9c45a6ad-a4c7-4d64-e2fb-adc4a1f49d7e",
        "colab": {
          "base_uri": "https://localhost:8080/",
          "height": 1717
        }
      },
      "cell_type": "code",
      "source": [
        "model = Mnist_CNN()\n",
        "opt = optim.Adam(model.parameters(), lr=0.001)\n",
        "\n",
        "fit(50, model, loss_func, opt, train_dl, valid_dl)"
      ],
      "execution_count": 0,
      "outputs": [
        {
          "output_type": "stream",
          "text": [
            "0 0.7597417671233415 0.6631641918420792 0.723125 (Train loss, Validation loss, Validation Accuracy)\n",
            "1 0.5920050769671797 0.5476444190740586 0.78375 (Train loss, Validation loss, Validation Accuracy)\n",
            "2 0.5097141651064158 0.5325930655002594 0.7925 (Train loss, Validation loss, Validation Accuracy)\n",
            "3 0.4695860850252211 0.4512806940078735 0.819375 (Train loss, Validation loss, Validation Accuracy)\n",
            "4 0.43489276422187684 0.4685099825263023 0.81875 (Train loss, Validation loss, Validation Accuracy)\n",
            "5 0.394864712562412 0.4492850139737129 0.823125 (Train loss, Validation loss, Validation Accuracy)\n",
            "6 0.3836793652176857 0.4207743117213249 0.834375 (Train loss, Validation loss, Validation Accuracy)\n",
            "7 0.36491455329582095 0.4382036176323891 0.8275 (Train loss, Validation loss, Validation Accuracy)\n",
            "8 0.3456278882548213 0.4275685891509056 0.83875 (Train loss, Validation loss, Validation Accuracy)\n",
            "9 0.3264730620197952 0.43679234564304353 0.830625 (Train loss, Validation loss, Validation Accuracy)\n",
            "10 0.3095701682381332 0.42263912796974185 0.830625 (Train loss, Validation loss, Validation Accuracy)\n",
            "11 0.2853327754512429 0.43600561887025835 0.8425 (Train loss, Validation loss, Validation Accuracy)\n",
            "12 0.2772659716568887 0.46101763427257536 0.845 (Train loss, Validation loss, Validation Accuracy)\n",
            "13 0.26239142717793584 0.46353043496608737 0.839375 (Train loss, Validation loss, Validation Accuracy)\n",
            "14 0.25743020774796604 0.4264674288034439 0.849375 (Train loss, Validation loss, Validation Accuracy)\n",
            "15 0.23190647223964334 0.5139873740077019 0.833125 (Train loss, Validation loss, Validation Accuracy)\n",
            "16 0.2234003910049796 0.4762489381432533 0.853125 (Train loss, Validation loss, Validation Accuracy)\n",
            "17 0.22180806130170821 0.5239061377942562 0.848125 (Train loss, Validation loss, Validation Accuracy)\n",
            "18 0.19925064804032444 0.564507070928812 0.828125 (Train loss, Validation loss, Validation Accuracy)\n",
            "19 0.1842630610615015 0.5941872022300959 0.84625 (Train loss, Validation loss, Validation Accuracy)\n",
            "20 0.18841102430596948 0.5274159222841263 0.843125 (Train loss, Validation loss, Validation Accuracy)\n",
            "21 0.1730610933806747 0.5419379252195359 0.840625 (Train loss, Validation loss, Validation Accuracy)\n",
            "22 0.16886360964737832 0.5827547481656075 0.83375 (Train loss, Validation loss, Validation Accuracy)\n",
            "23 0.1583768542855978 0.6370020321011544 0.835625 (Train loss, Validation loss, Validation Accuracy)\n",
            "24 0.1494081209320575 0.5689191493391991 0.84375 (Train loss, Validation loss, Validation Accuracy)\n",
            "25 0.1401956535410136 0.6508742992579937 0.8425 (Train loss, Validation loss, Validation Accuracy)\n",
            "26 0.13052028014790268 0.6463540442287922 0.85 (Train loss, Validation loss, Validation Accuracy)\n",
            "27 0.12728732837364076 0.6111912488937378 0.83875 (Train loss, Validation loss, Validation Accuracy)\n",
            "28 0.12233302657492459 0.6717445376515389 0.853125 (Train loss, Validation loss, Validation Accuracy)\n",
            "29 0.11189687602221966 0.6385968659818172 0.845 (Train loss, Validation loss, Validation Accuracy)\n",
            "30 0.10734968268312514 0.6663686366379261 0.85125 (Train loss, Validation loss, Validation Accuracy)\n",
            "31 0.10590784098021686 0.7036713427305221 0.843125 (Train loss, Validation loss, Validation Accuracy)\n",
            "32 0.10726847009733319 0.722708547860384 0.839375 (Train loss, Validation loss, Validation Accuracy)\n",
            "33 0.09865536618977785 0.7981952612102031 0.84125 (Train loss, Validation loss, Validation Accuracy)\n",
            "34 0.09757422654889523 0.7298621036112308 0.845625 (Train loss, Validation loss, Validation Accuracy)\n",
            "35 0.0792528897151351 0.7082133156061172 0.8425 (Train loss, Validation loss, Validation Accuracy)\n",
            "36 0.08874683822505176 0.7297515001893043 0.825 (Train loss, Validation loss, Validation Accuracy)\n",
            "37 0.08066863850690424 0.7322676777839661 0.841875 (Train loss, Validation loss, Validation Accuracy)\n",
            "38 0.08595518675632775 0.6886788146942854 0.849375 (Train loss, Validation loss, Validation Accuracy)\n",
            "39 0.08080845938064157 0.8012293419241905 0.85625 (Train loss, Validation loss, Validation Accuracy)\n",
            "40 0.06807293294928968 0.7895113943517208 0.855 (Train loss, Validation loss, Validation Accuracy)\n",
            "41 0.07949866449460387 0.7797095160931349 0.843125 (Train loss, Validation loss, Validation Accuracy)\n",
            "42 0.07250897668302059 0.7567237487435341 0.8575 (Train loss, Validation loss, Validation Accuracy)\n",
            "43 0.06973032020032406 0.7875893591344356 0.83625 (Train loss, Validation loss, Validation Accuracy)\n",
            "44 0.06791911118663847 0.8799499872326851 0.851875 (Train loss, Validation loss, Validation Accuracy)\n",
            "45 0.07054535233415664 0.7359857146441936 0.846875 (Train loss, Validation loss, Validation Accuracy)\n",
            "46 0.06610881052911281 0.7700918887555599 0.853125 (Train loss, Validation loss, Validation Accuracy)\n",
            "47 0.07016818601638079 0.7231353142857552 0.846875 (Train loss, Validation loss, Validation Accuracy)\n",
            "48 0.06284530715085566 0.8255562636256218 0.843125 (Train loss, Validation loss, Validation Accuracy)\n",
            "49 0.06192952123703435 1.0784396475553513 0.844375 (Train loss, Validation loss, Validation Accuracy)\n",
            "0 0.7597417671233415 0.6631641918420792 0.723125 (Train loss, Validation loss, Validation Accuracy)\n",
            "1 0.5920050769671797 0.5476444190740586 0.78375 (Train loss, Validation loss, Validation Accuracy)\n",
            "2 0.5097141651064158 0.5325930655002594 0.7925 (Train loss, Validation loss, Validation Accuracy)\n",
            "3 0.4695860850252211 0.4512806940078735 0.819375 (Train loss, Validation loss, Validation Accuracy)\n",
            "4 0.43489276422187684 0.4685099825263023 0.81875 (Train loss, Validation loss, Validation Accuracy)\n",
            "5 0.394864712562412 0.4492850139737129 0.823125 (Train loss, Validation loss, Validation Accuracy)\n",
            "6 0.3836793652176857 0.4207743117213249 0.834375 (Train loss, Validation loss, Validation Accuracy)\n",
            "7 0.36491455329582095 0.4382036176323891 0.8275 (Train loss, Validation loss, Validation Accuracy)\n",
            "8 0.3456278882548213 0.4275685891509056 0.83875 (Train loss, Validation loss, Validation Accuracy)\n",
            "9 0.3264730620197952 0.43679234564304353 0.830625 (Train loss, Validation loss, Validation Accuracy)\n",
            "10 0.3095701682381332 0.42263912796974185 0.830625 (Train loss, Validation loss, Validation Accuracy)\n",
            "11 0.2853327754512429 0.43600561887025835 0.8425 (Train loss, Validation loss, Validation Accuracy)\n",
            "12 0.2772659716568887 0.46101763427257536 0.845 (Train loss, Validation loss, Validation Accuracy)\n",
            "13 0.26239142717793584 0.46353043496608737 0.839375 (Train loss, Validation loss, Validation Accuracy)\n",
            "14 0.25743020774796604 0.4264674288034439 0.849375 (Train loss, Validation loss, Validation Accuracy)\n",
            "15 0.23190647223964334 0.5139873740077019 0.833125 (Train loss, Validation loss, Validation Accuracy)\n",
            "16 0.2234003910049796 0.4762489381432533 0.853125 (Train loss, Validation loss, Validation Accuracy)\n",
            "17 0.22180806130170821 0.5239061377942562 0.848125 (Train loss, Validation loss, Validation Accuracy)\n",
            "18 0.19925064804032444 0.564507070928812 0.828125 (Train loss, Validation loss, Validation Accuracy)\n",
            "19 0.1842630610615015 0.5941872022300959 0.84625 (Train loss, Validation loss, Validation Accuracy)\n",
            "20 0.18841102430596948 0.5274159222841263 0.843125 (Train loss, Validation loss, Validation Accuracy)\n",
            "21 0.1730610933806747 0.5419379252195359 0.840625 (Train loss, Validation loss, Validation Accuracy)\n",
            "22 0.16886360964737832 0.5827547481656075 0.83375 (Train loss, Validation loss, Validation Accuracy)\n",
            "23 0.1583768542855978 0.6370020321011544 0.835625 (Train loss, Validation loss, Validation Accuracy)\n",
            "24 0.1494081209320575 0.5689191493391991 0.84375 (Train loss, Validation loss, Validation Accuracy)\n",
            "25 0.1401956535410136 0.6508742992579937 0.8425 (Train loss, Validation loss, Validation Accuracy)\n",
            "26 0.13052028014790268 0.6463540442287922 0.85 (Train loss, Validation loss, Validation Accuracy)\n",
            "27 0.12728732837364076 0.6111912488937378 0.83875 (Train loss, Validation loss, Validation Accuracy)\n",
            "28 0.12233302657492459 0.6717445376515389 0.853125 (Train loss, Validation loss, Validation Accuracy)\n",
            "29 0.11189687602221966 0.6385968659818172 0.845 (Train loss, Validation loss, Validation Accuracy)\n",
            "30 0.10734968268312514 0.6663686366379261 0.85125 (Train loss, Validation loss, Validation Accuracy)\n",
            "31 0.10590784098021686 0.7036713427305221 0.843125 (Train loss, Validation loss, Validation Accuracy)\n",
            "32 0.10726847009733319 0.722708547860384 0.839375 (Train loss, Validation loss, Validation Accuracy)\n",
            "33 0.09865536618977785 0.7981952612102031 0.84125 (Train loss, Validation loss, Validation Accuracy)\n",
            "34 0.09757422654889523 0.7298621036112308 0.845625 (Train loss, Validation loss, Validation Accuracy)\n",
            "35 0.0792528897151351 0.7082133156061172 0.8425 (Train loss, Validation loss, Validation Accuracy)\n",
            "36 0.08874683822505176 0.7297515001893043 0.825 (Train loss, Validation loss, Validation Accuracy)\n",
            "37 0.08066863850690424 0.7322676777839661 0.841875 (Train loss, Validation loss, Validation Accuracy)\n",
            "38 0.08595518675632775 0.6886788146942854 0.849375 (Train loss, Validation loss, Validation Accuracy)\n",
            "39 0.08080845938064157 0.8012293419241905 0.85625 (Train loss, Validation loss, Validation Accuracy)\n",
            "40 0.06807293294928968 0.7895113943517208 0.855 (Train loss, Validation loss, Validation Accuracy)\n",
            "41 0.07949866449460387 0.7797095160931349 0.843125 (Train loss, Validation loss, Validation Accuracy)\n",
            "42 0.07250897668302059 0.7567237487435341 0.8575 (Train loss, Validation loss, Validation Accuracy)\n",
            "43 0.06973032020032406 0.7875893591344356 0.83625 (Train loss, Validation loss, Validation Accuracy)\n",
            "44 0.06791911118663847 0.8799499872326851 0.851875 (Train loss, Validation loss, Validation Accuracy)\n",
            "45 0.07054535233415664 0.7359857146441936 0.846875 (Train loss, Validation loss, Validation Accuracy)\n",
            "46 0.06610881052911281 0.7700918887555599 0.853125 (Train loss, Validation loss, Validation Accuracy)\n",
            "47 0.07016818601638079 0.7231353142857552 0.846875 (Train loss, Validation loss, Validation Accuracy)\n",
            "48 0.06284530715085566 0.8255562636256218 0.843125 (Train loss, Validation loss, Validation Accuracy)\n",
            "49 0.06192952123703435 1.0784396475553513 0.844375 (Train loss, Validation loss, Validation Accuracy)\n"
          ],
          "name": "stdout"
        }
      ]
    }
  ]
}